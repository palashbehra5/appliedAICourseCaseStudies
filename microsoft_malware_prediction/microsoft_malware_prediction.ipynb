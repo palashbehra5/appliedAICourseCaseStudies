{
 "cells": [
  {
   "cell_type": "code",
   "execution_count": 114,
   "id": "7bea3fd2",
   "metadata": {},
   "outputs": [],
   "source": [
    "import pandas as pd\n",
    "import numpy as np\n",
    "import matplotlib.pyplot as plt\n",
    "import seaborn as sns\n",
    "from wordcloud import WordCloud\n",
    "\n",
    "# Preprocessing\n",
    "import re\n",
    "from nltk.corpus import stopwords\n",
    "from nltk.stem import PorterStemmer\n",
    "from collections import Counter\n",
    "from bs4 import BeautifulSoup\n",
    "\n",
    "# Featurization of textual data\n",
    "from sklearn.preprocessing import Normalizer\n",
    "from sklearn.feature_extraction.text import CountVectorizer,TfidfVectorizer\n",
    "import os\n",
    "from sklearn.manifold import TSNE\n",
    "\n",
    "# Model selection\n",
    "from sklearn.model_selection import train_test_split,RandomizedSearchCV\n",
    "from sklearn.neighbors import KNeighborsClassifier\n",
    "from sklearn.calibration import CalibratedClassifierCV\n",
    "from sklearn.linear_model import LogisticRegression\n",
    "from sklearn.ensemble import RandomForestClassifier\n",
    "from xgboost import XGBClassifier\n",
    "\n",
    "# Better metric for judging multilabel classification solution\n",
    "from sklearn.metrics import f1_score,log_loss,confusion_matrix\n",
    "\n",
    "# Pretrained word2vec models\n",
    "from gensim.models import Word2Vec,KeyedVectors\n",
    "import spacy\n",
    "\n",
    "# For multiclass/multilabel training\n",
    "from sklearn.multiclass import OneVsRestClassifier\n",
    "from sklearn.linear_model import SGDClassifier\n",
    "\n",
    "# tqdm is used to print the progrss bar\n",
    "from tqdm import tqdm\n",
    "\n",
    "stop_words = [\"able\",\"about\",\"above\",\"abroad\",\"according\",\"accordingly\",\"across\",\"actually\",\"adj\",\"after\",\"afterwards\",\"again\",\"against\",\"ago\",\"ahead\",\"ain't\",\"all\",\"allow\",\"allows\",\"almost\",\"alone\",\"along\",\"alongside\",\"already\",\"also\",\"although\",\"always\",\"am\",\"amid\",\"amidst\",\"among\",\"amongst\",\"an\",\"and\",\"another\",\"any\",\"anybody\",\"anyhow\",\"anyone\",\"anything\",\"anyway\",\"anyways\",\"anywhere\",\"apart\",\"appear\",\"appreciate\",\"appropriate\",\"are\",\"aren't\",\"around\",\"as\",\"a's\",\"aside\",\"ask\",\"asking\",\"associated\",\"at\",\"available\",\"away\",\"awfully\",\"back\",\"backward\",\"backwards\",\"be\",\"became\",\"because\",\"become\",\"becomes\",\"becoming\",\"been\",\"before\",\"beforehand\",\"begin\",\"behind\",\"being\",\"believe\",\"below\",\"beside\",\"besides\",\"best\",\"better\",\"between\",\"beyond\",\"both\",\"brief\",\"but\",\"by\",\"came\",\"can\",\"cannot\",\"cant\",\"can't\",\"caption\",\"cause\",\"causes\",\"certain\",\"certainly\",\"changes\",\"clearly\",\"c'mon\",\"co\",\"co.\",\"com\",\"come\",\"comes\",\"concerning\",\"consequently\",\"consider\",\"considering\",\"contain\",\"containing\",\"contains\",\"corresponding\",\"could\",\"couldn't\",\"course\",\"currently\",\"dare\",\"daren't\",\"definitely\",\"described\",\"despite\",\"did\",\"didn't\",\"different\",\"directly\",\"do\",\"does\",\"doesn't\",\"doing\",\"done\",\"don't\",\"down\",\"downwards\",\"during\",\"each\",\"edu\",\"eg\",\"eight\",\"eighty\",\"either\",\"else\",\"elsewhere\",\"end\",\"ending\",\"enough\",\"entirely\",\"especially\",\"et\",\"etc\",\"even\",\"ever\",\"evermore\",\"every\",\"everybody\",\"everyone\",\"everything\",\"everywhere\",\"ex\",\"exactly\",\"example\",\"except\",\"fairly\",\"far\",\"farther\",\"few\",\"fewer\",\"fifth\",\"first\",\"five\",\"followed\",\"following\",\"follows\",\"for\",\"forever\",\"former\",\"formerly\",\"forth\",\"forward\",\"found\",\"four\",\"from\",\"further\",\"furthermore\",\"get\",\"gets\",\"getting\",\"given\",\"gives\",\"go\",\"goes\",\"going\",\"gone\",\"got\",\"gotten\",\"greetings\",\"had\",\"hadn't\",\"half\",\"happens\",\"hardly\",\"has\",\"hasn't\",\"have\",\"haven't\",\"having\",\"he\",\"he'd\",\"he'll\",\"hello\",\"help\",\"hence\",\"her\",\"here\",\"hereafter\",\"hereby\",\"herein\",\"here's\",\"hereupon\",\"hers\",\"herself\",\"he's\",\"hi\",\"him\",\"himself\",\"his\",\"hither\",\"hopefully\",\"how\",\"howbeit\",\"however\",\"hundred\",\"i'd\",\"ie\",\"if\",\"ignored\",\"i'll\",\"i'm\",\"immediate\",\"in\",\"inasmuch\",\"inc\",\"inc.\",\"indeed\",\"indicate\",\"indicated\",\"indicates\",\"inner\",\"inside\",\"insofar\",\"instead\",\"into\",\"inward\",\"is\",\"isn't\",\"it\",\"it'd\",\"it'll\",\"its\",\"it's\",\"itself\",\"i've\",\"just\",\"k\",\"keep\",\"keeps\",\"kept\",\"know\",\"known\",\"knows\",\"last\",\"lately\",\"later\",\"latter\",\"latterly\",\"least\",\"less\",\"lest\",\"let\",\"let's\",\"like\",\"liked\",\"likely\",\"likewise\",\"little\",\"look\",\"looking\",\"looks\",\"low\",\"lower\",\"ltd\",\"made\",\"mainly\",\"make\",\"makes\",\"many\",\"may\",\"maybe\",\"mayn't\",\"me\",\"mean\",\"meantime\",\"meanwhile\",\"merely\",\"might\",\"mightn't\",\"mine\",\"minus\",\"miss\",\"more\",\"moreover\",\"most\",\"mostly\",\"mr\",\"mrs\",\"much\",\"must\",\"mustn't\",\"my\",\"myself\",\"name\",\"namely\",\"nd\",\"near\",\"nearly\",\"necessary\",\"need\",\"needn't\",\"needs\",\"neither\",\"never\",\"neverf\",\"neverless\",\"nevertheless\",\"new\",\"next\",\"nine\",\"ninety\",\"no\",\"nobody\",\"non\",\"none\",\"nonetheless\",\"noone\",\"no-one\",\"nor\",\"normally\",\"not\",\"nothing\",\"notwithstanding\",\"novel\",\"now\",\"nowhere\",\"obviously\",\"of\",\"off\",\"often\",\"oh\",\"ok\",\"okay\",\"old\",\"on\",\"once\",\"one\",\"ones\",\"one's\",\"only\",\"onto\",\"opposite\",\"or\",\"other\",\"others\",\"otherwise\",\"ought\",\"oughtn't\",\"our\",\"ours\",\"ourselves\",\"out\",\"outside\",\"over\",\"overall\",\"own\",\"particular\",\"particularly\",\"past\",\"per\",\"perhaps\",\"placed\",\"please\",\"plus\",\"possible\",\"presumably\",\"probably\",\"provided\",\"provides\",\"que\",\"quite\",\"qv\",\"rather\",\"rd\",\"re\",\"really\",\"reasonably\",\"recent\",\"recently\",\"regarding\",\"regardless\",\"regards\",\"relatively\",\"respectively\",\"right\",\"round\",\"said\",\"same\",\"saw\",\"say\",\"saying\",\"says\",\"second\",\"secondly\",\"see\",\"seeing\",\"seem\",\"seemed\",\"seeming\",\"seems\",\"seen\",\"self\",\"selves\",\"sensible\",\"sent\",\"serious\",\"seriously\",\"seven\",\"several\",\"shall\",\"shan't\",\"she\",\"she'd\",\"she'll\",\"she's\",\"should\",\"shouldn't\",\"since\",\"six\",\"so\",\"some\",\"somebody\",\"someday\",\"somehow\",\"someone\",\"something\",\"sometime\",\"sometimes\",\"somewhat\",\"somewhere\",\"soon\",\"sorry\",\"specified\",\"specify\",\"specifying\",\"still\",\"sub\",\"such\",\"sup\",\"sure\",\"take\",\"taken\",\"taking\",\"tell\",\"tends\",\"th\",\"than\",\"thank\",\"thanks\",\"thanx\",\"that\",\"that'll\",\"thats\",\"that's\",\"that've\",\"the\",\"their\",\"theirs\",\"them\",\"themselves\",\"then\",\"thence\",\"there\",\"thereafter\",\"thereby\",\"there'd\",\"therefore\",\"therein\",\"there'll\",\"there're\",\"theres\",\"there's\",\"thereupon\",\"there've\",\"these\",\"they\",\"they'd\",\"they'll\",\"they're\",\"they've\",\"thing\",\"things\",\"think\",\"third\",\"thirty\",\"this\",\"thorough\",\"thoroughly\",\"those\",\"though\",\"three\",\"through\",\"throughout\",\"thru\",\"thus\",\"till\",\"to\",\"together\",\"too\",\"took\",\"toward\",\"towards\",\"tried\",\"tries\",\"truly\",\"try\",\"trying\",\"t's\",\"twice\",\"two\",\"un\",\"under\",\"underneath\",\"undoing\",\"unfortunately\",\"unless\",\"unlike\",\"unlikely\",\"until\",\"unto\",\"up\",\"upon\",\"upwards\",\"us\",\"use\",\"used\",\"useful\",\"uses\",\"using\",\"usually\",\"v\",\"value\",\"various\",\"versus\",\"very\",\"via\",\"viz\",\"vs\",\"want\",\"wants\",\"was\",\"wasn't\",\"way\",\"we\",\"we'd\",\"welcome\",\"well\",\"we'll\",\"went\",\"were\",\"we're\",\"weren't\",\"we've\",\"what\",\"whatever\",\"what'll\",\"what's\",\"what've\",\"when\",\"whence\",\"whenever\",\"where\",\"whereafter\",\"whereas\",\"whereby\",\"wherein\",\"where's\",\"whereupon\",\"wherever\",\"whether\",\"which\",\"whichever\",\"while\",\"whilst\",\"whither\",\"who\",\"who'd\",\"whoever\",\"whole\",\"who'll\",\"whom\",\"whomever\",\"who's\",\"whose\",\"why\",\"will\",\"willing\",\"wish\",\"with\",\"within\",\"without\",\"wonder\",\"won't\",\"would\",\"wouldn't\",\"yes\",\"yet\",\"you\",\"you'd\",\"you'll\",\"your\",\"you're\",\"yours\",\"yourself\",\"yourselves\",\"you've\",\"zero\",\"a\",\"how's\",\"i\",\"when's\",\"why's\",\"b\",\"c\",\"d\",\"e\",\"f\",\"g\",\"h\",\"j\",\"l\",\"m\",\"n\",\"o\",\"p\",\"q\",\"r\",\"s\",\"t\",\"u\",\"uucp\",\"w\",\"x\",\"y\",\"z\",\"I\",\"www\",\"amount\",\"bill\",\"bottom\",\"call\",\"computer\",\"con\",\"couldnt\",\"cry\",\"de\",\"describe\",\"detail\",\"due\",\"eleven\",\"empty\",\"fifteen\",\"fifty\",\"fill\",\"find\",\"fire\",\"forty\",\"front\",\"full\",\"give\",\"hasnt\",\"herse\",\"himse\",\"interest\",\"itse”\",\"mill\",\"move\",\"myse”\",\"part\",\"put\",\"show\",\"side\",\"sincere\",\"sixty\",\"system\",\"ten\",\"thick\",\"thin\",\"top\",\"twelve\",\"twenty\",\"abst\",\"accordance\",\"act\",\"added\",\"adopted\",\"affected\",\"affecting\",\"affects\",\"ah\",\"announce\",\"anymore\",\"apparently\",\"approximately\",\"aren\",\"arent\",\"arise\",\"auth\",\"beginning\",\"beginnings\",\"begins\",\"biol\",\"briefly\",\"ca\",\"date\",\"ed\",\"effect\",\"et-al\",\"ff\",\"fix\",\"gave\",\"giving\",\"heres\",\"hes\",\"hid\",\"home\",\"id\",\"im\",\"immediately\",\"importance\",\"important\",\"index\",\"information\",\"invention\",\"itd\",\"keys\",\"kg\",\"km\",\"largely\",\"lets\",\"line\",\"'ll\",\"means\",\"mg\",\"million\",\"ml\",\"mug\",\"na\",\"nay\",\"necessarily\",\"nos\",\"noted\",\"obtain\",\"obtained\",\"omitted\",\"ord\",\"owing\",\"page\",\"pages\",\"poorly\",\"possibly\",\"potentially\",\"pp\",\"predominantly\",\"present\",\"previously\",\"primarily\",\"promptly\",\"proud\",\"quickly\",\"ran\",\"readily\",\"ref\",\"refs\",\"related\",\"research\",\"resulted\",\"resulting\",\"results\",\"run\",\"sec\",\"section\",\"shed\",\"shes\",\"showed\",\"shown\",\"showns\",\"shows\",\"significant\",\"significantly\",\"similar\",\"similarly\",\"slightly\",\"somethan\",\"specifically\",\"state\",\"states\",\"stop\",\"strongly\",\"substantially\",\"successfully\",\"sufficiently\",\"suggest\",\"thered\",\"thereof\",\"therere\",\"thereto\",\"theyd\",\"theyre\",\"thou\",\"thoughh\",\"thousand\",\"throug\",\"til\",\"tip\",\"ts\",\"ups\",\"usefully\",\"usefulness\",\"'ve\",\"vol\",\"vols\",\"wed\",\"whats\",\"wheres\",\"whim\",\"whod\",\"whos\",\"widely\",\"words\",\"world\",\"youd\",\"youre\"]"
   ]
  },
  {
   "cell_type": "code",
   "execution_count": 3,
   "id": "d392fa28",
   "metadata": {},
   "outputs": [
    {
     "name": "stdout",
     "output_type": "stream",
     "text": [
      "<class 'pandas.core.frame.DataFrame'>\n",
      "RangeIndex: 10868 entries, 0 to 10867\n",
      "Data columns (total 2 columns):\n",
      " #   Column  Non-Null Count  Dtype \n",
      "---  ------  --------------  ----- \n",
      " 0   Id      10868 non-null  object\n",
      " 1   Class   10868 non-null  int64 \n",
      "dtypes: int64(1), object(1)\n",
      "memory usage: 169.9+ KB\n"
     ]
    }
   ],
   "source": [
    "df = pd.read_csv(\"trainLabels.csv\")\n",
    "df.info()"
   ]
  },
  {
   "cell_type": "code",
   "execution_count": 4,
   "id": "6a93ef97",
   "metadata": {},
   "outputs": [
    {
     "data": {
      "text/html": [
       "<div>\n",
       "<style scoped>\n",
       "    .dataframe tbody tr th:only-of-type {\n",
       "        vertical-align: middle;\n",
       "    }\n",
       "\n",
       "    .dataframe tbody tr th {\n",
       "        vertical-align: top;\n",
       "    }\n",
       "\n",
       "    .dataframe thead th {\n",
       "        text-align: right;\n",
       "    }\n",
       "</style>\n",
       "<table border=\"1\" class=\"dataframe\">\n",
       "  <thead>\n",
       "    <tr style=\"text-align: right;\">\n",
       "      <th></th>\n",
       "      <th>Id</th>\n",
       "      <th>Class</th>\n",
       "    </tr>\n",
       "  </thead>\n",
       "  <tbody>\n",
       "    <tr>\n",
       "      <th>0</th>\n",
       "      <td>01kcPWA9K2BOxQeS5Rju</td>\n",
       "      <td>1</td>\n",
       "    </tr>\n",
       "    <tr>\n",
       "      <th>1</th>\n",
       "      <td>04EjIdbPV5e1XroFOpiN</td>\n",
       "      <td>1</td>\n",
       "    </tr>\n",
       "    <tr>\n",
       "      <th>2</th>\n",
       "      <td>05EeG39MTRrI6VY21DPd</td>\n",
       "      <td>1</td>\n",
       "    </tr>\n",
       "    <tr>\n",
       "      <th>3</th>\n",
       "      <td>05rJTUWYAKNegBk2wE8X</td>\n",
       "      <td>1</td>\n",
       "    </tr>\n",
       "    <tr>\n",
       "      <th>4</th>\n",
       "      <td>0AnoOZDNbPXIr2MRBSCJ</td>\n",
       "      <td>1</td>\n",
       "    </tr>\n",
       "  </tbody>\n",
       "</table>\n",
       "</div>"
      ],
      "text/plain": [
       "                     Id  Class\n",
       "0  01kcPWA9K2BOxQeS5Rju      1\n",
       "1  04EjIdbPV5e1XroFOpiN      1\n",
       "2  05EeG39MTRrI6VY21DPd      1\n",
       "3  05rJTUWYAKNegBk2wE8X      1\n",
       "4  0AnoOZDNbPXIr2MRBSCJ      1"
      ]
     },
     "execution_count": 4,
     "metadata": {},
     "output_type": "execute_result"
    }
   ],
   "source": [
    "df.head()"
   ]
  },
  {
   "cell_type": "code",
   "execution_count": 5,
   "id": "b77ef442",
   "metadata": {},
   "outputs": [
    {
     "data": {
      "text/plain": [
       "['00401000 56 8D 44 24 08 50 8B F1 E8 1C 1B 00 00 C7 06 08',\n",
       " '00401010 BB 42 00 8B C6 5E C2 04 00 CC CC CC CC CC CC CC',\n",
       " '00401020 C7 01 08 BB 42 00 E9 26 1C 00 00 CC CC CC CC CC',\n",
       " '00401030 56 8B F1 C7 06 08 BB 42 00 E8 13 1C 00 00 F6 44',\n",
       " '00401040 24 08 01 74 09 56 E8 6C 1E 00 00 83 C4 04 8B C6',\n",
       " '00401050 5E C2 04 00 CC CC CC CC CC CC CC CC CC CC CC CC',\n",
       " '00401060 8B 44 24 08 8A 08 8B 54 24 04 88 0A C3 CC CC CC',\n",
       " '00401070 8B 44 24 04 8D 50 01 8A 08 40 84 C9 75 F9 2B C2',\n",
       " '00401080 C3 CC CC CC CC CC CC CC CC CC CC CC CC CC CC CC',\n",
       " '00401090 8B 44 24 10 8B 4C 24 0C 8B 54 24 08 56 8B 74 24']"
      ]
     },
     "execution_count": 5,
     "metadata": {},
     "output_type": "execute_result"
    }
   ],
   "source": [
    "# Example of .byte code available\n",
    "\n",
    "example_hex_code = [i[:-1] for i in open('train\\\\0A32eTdBKayjCWhZqDOQ.bytes','r')]\n",
    "(example_hex_code[0:10])"
   ]
  },
  {
   "cell_type": "code",
   "execution_count": 6,
   "id": "463ecce9",
   "metadata": {},
   "outputs": [
    {
     "data": {
      "text/plain": [
       "<BarContainer object of 9 artists>"
      ]
     },
     "execution_count": 6,
     "metadata": {},
     "output_type": "execute_result"
    },
    {
     "data": {
      "image/png": "[encoded data removed]",
      "text/plain": [
       "<Figure size 504x504 with 1 Axes>"
      ]
     },
     "metadata": {
      "needs_background": "light"
     },
     "output_type": "display_data"
    }
   ],
   "source": [
    "# EDA on class types\n",
    "\n",
    "plt.figure(figsize=(7,7))\n",
    "plt.bar(['1','2','3','4','5','6','7','8','9'],list(df.groupby('Class').count().Id))"
   ]
  },
  {
   "cell_type": "markdown",
   "id": "f02fc397",
   "metadata": {},
   "source": [
    "<h1> Feature Extraction </h1>"
   ]
  },
  {
   "cell_type": "code",
   "execution_count": 8,
   "id": "356a9a00",
   "metadata": {},
   "outputs": [
    {
     "data": {
      "text/plain": [
       "4.154254913330078"
      ]
     },
     "execution_count": 8,
     "metadata": {},
     "output_type": "execute_result"
    }
   ],
   "source": [
    "# Using file size in MB as a feature\n",
    "\n",
    "(os.path.getsize('train\\\\0A32eTdBKayjCWhZqDOQ.bytes')/(2**20))"
   ]
  },
  {
   "cell_type": "code",
   "execution_count": 9,
   "id": "02b7cd20",
   "metadata": {},
   "outputs": [],
   "source": [
    "df['byte_file_size'] = df['Id'].apply(lambda file_name : (os.path.getsize('train\\\\'+file_name+'.bytes')/(2**20)))"
   ]
  },
  {
   "cell_type": "code",
   "execution_count": 10,
   "id": "442f1d4d",
   "metadata": {},
   "outputs": [
    {
     "data": {
      "text/html": [
       "<div>\n",
       "<style scoped>\n",
       "    .dataframe tbody tr th:only-of-type {\n",
       "        vertical-align: middle;\n",
       "    }\n",
       "\n",
       "    .dataframe tbody tr th {\n",
       "        vertical-align: top;\n",
       "    }\n",
       "\n",
       "    .dataframe thead th {\n",
       "        text-align: right;\n",
       "    }\n",
       "</style>\n",
       "<table border=\"1\" class=\"dataframe\">\n",
       "  <thead>\n",
       "    <tr style=\"text-align: right;\">\n",
       "      <th></th>\n",
       "      <th>Id</th>\n",
       "      <th>Class</th>\n",
       "      <th>byte_file_size</th>\n",
       "    </tr>\n",
       "  </thead>\n",
       "  <tbody>\n",
       "    <tr>\n",
       "      <th>0</th>\n",
       "      <td>01kcPWA9K2BOxQeS5Rju</td>\n",
       "      <td>1</td>\n",
       "      <td>0.679688</td>\n",
       "    </tr>\n",
       "    <tr>\n",
       "      <th>1</th>\n",
       "      <td>04EjIdbPV5e1XroFOpiN</td>\n",
       "      <td>1</td>\n",
       "      <td>0.849609</td>\n",
       "    </tr>\n",
       "    <tr>\n",
       "      <th>2</th>\n",
       "      <td>05EeG39MTRrI6VY21DPd</td>\n",
       "      <td>1</td>\n",
       "      <td>0.509766</td>\n",
       "    </tr>\n",
       "    <tr>\n",
       "      <th>3</th>\n",
       "      <td>05rJTUWYAKNegBk2wE8X</td>\n",
       "      <td>1</td>\n",
       "      <td>2.789551</td>\n",
       "    </tr>\n",
       "    <tr>\n",
       "      <th>4</th>\n",
       "      <td>0AnoOZDNbPXIr2MRBSCJ</td>\n",
       "      <td>1</td>\n",
       "      <td>0.566406</td>\n",
       "    </tr>\n",
       "  </tbody>\n",
       "</table>\n",
       "</div>"
      ],
      "text/plain": [
       "                     Id  Class  byte_file_size\n",
       "0  01kcPWA9K2BOxQeS5Rju      1        0.679688\n",
       "1  04EjIdbPV5e1XroFOpiN      1        0.849609\n",
       "2  05EeG39MTRrI6VY21DPd      1        0.509766\n",
       "3  05rJTUWYAKNegBk2wE8X      1        2.789551\n",
       "4  0AnoOZDNbPXIr2MRBSCJ      1        0.566406"
      ]
     },
     "execution_count": 10,
     "metadata": {},
     "output_type": "execute_result"
    }
   ],
   "source": [
    "df.head()"
   ]
  },
  {
   "cell_type": "code",
   "execution_count": 11,
   "id": "94a72b00",
   "metadata": {},
   "outputs": [
    {
     "data": {
      "text/plain": [
       "<AxesSubplot:xlabel='Class', ylabel='byte_file_size'>"
      ]
     },
     "execution_count": 11,
     "metadata": {},
     "output_type": "execute_result"
    },
    {
     "data": {
      "image/png": "[encoded data removed]",
      "text/plain": [
       "<Figure size 720x720 with 1 Axes>"
      ]
     },
     "metadata": {
      "needs_background": "light"
     },
     "output_type": "display_data"
    }
   ],
   "source": [
    "# byte_file_size is a potentially useful feature\n",
    "\n",
    "plt.figure(figsize=(10,10))\n",
    "sns.boxplot(data=df,x='Class',y='byte_file_size')"
   ]
  },
  {
   "cell_type": "code",
   "execution_count": 12,
   "id": "dc60da6b",
   "metadata": {},
   "outputs": [
    {
     "data": {
      "text/plain": [
       "['00401000 56 8D 44 24 08 50 8B F1 E8 1C 1B 00 00 C7 06 08',\n",
       " '00401010 BB 42 00 8B C6 5E C2 04 00 CC CC CC CC CC CC CC',\n",
       " '00401020 C7 01 08 BB 42 00 E9 26 1C 00 00 CC CC CC CC CC',\n",
       " '00401030 56 8B F1 C7 06 08 BB 42 00 E8 13 1C 00 00 F6 44',\n",
       " '00401040 24 08 01 74 09 56 E8 6C 1E 00 00 83 C4 04 8B C6',\n",
       " '00401050 5E C2 04 00 CC CC CC CC CC CC CC CC CC CC CC CC',\n",
       " '00401060 8B 44 24 08 8A 08 8B 54 24 04 88 0A C3 CC CC CC',\n",
       " '00401070 8B 44 24 04 8D 50 01 8A 08 40 84 C9 75 F9 2B C2',\n",
       " '00401080 C3 CC CC CC CC CC CC CC CC CC CC CC CC CC CC CC',\n",
       " '00401090 8B 44 24 10 8B 4C 24 0C 8B 54 24 08 56 8B 74 24']"
      ]
     },
     "execution_count": 12,
     "metadata": {},
     "output_type": "execute_result"
    }
   ],
   "source": [
    "# Hexadecimal pair ie \"AB\",\"11\",\"22\" as a potenial feature\n",
    "\n",
    "example_hex_code = [i[:-1] for i in open('train\\\\0A32eTdBKayjCWhZqDOQ.bytes','r')]\n",
    "(example_hex_code[0:10])"
   ]
  },
  {
   "cell_type": "code",
   "execution_count": 13,
   "id": "ae21e7ed",
   "metadata": {},
   "outputs": [
    {
     "data": {
      "text/plain": [
       "'56 8D 44 24 08 50 8B F1 E8 1C 1B 00 00 C7 06 08'"
      ]
     },
     "execution_count": 13,
     "metadata": {},
     "output_type": "execute_result"
    }
   ],
   "source": [
    "# Stripping address as not relevant\n",
    "\n",
    "def strip_address(text):\n",
    "    return text[9:]\n",
    "\n",
    "strip_address(example_hex_code[0])"
   ]
  },
  {
   "cell_type": "code",
   "execution_count": 16,
   "id": "507bc0df",
   "metadata": {},
   "outputs": [
    {
     "name": "stderr",
     "output_type": "stream",
     "text": [
      "100%|██████████████████████████████████████████████████████████████████████████| 10868/10868 [2:45:45<00:00,  1.09it/s]\n"
     ]
    }
   ],
   "source": [
    "# Feature Extraction\n",
    "\n",
    "features = np.zeros((10868,257))\n",
    "token_dict = dict(zip(comb,np.arange(0,258,1)))\n",
    "\n",
    "\n",
    "for i in tqdm(range(len(df))):\n",
    "    for text in open('train\\\\'+df['Id'].iloc[i]+'.bytes','r'):\n",
    "        temp_tokens = (strip_address(text)[:-1]).split(' ')\n",
    "        for token in (temp_tokens):\n",
    "            if(len(token)<2) : continue\n",
    "            else : features[i][token_dict[token]] += 1"
   ]
  },
  {
   "cell_type": "code",
   "execution_count": 32,
   "id": "2b1e583b",
   "metadata": {},
   "outputs": [],
   "source": [
    "# Normalizing Data\n",
    "\n",
    "n = Normalizer()\n",
    "df_new = pd.concat([df,pd.DataFrame(n.fit_transform(features))],axis=1)"
   ]
  },
  {
   "cell_type": "code",
   "execution_count": 41,
   "id": "f3b523f4",
   "metadata": {},
   "outputs": [],
   "source": [
    "# Seperating features and labels\n",
    "\n",
    "X = df_new.drop(['Id','Class'],axis = 1)\n",
    "y = df_new['Class']"
   ]
  },
  {
   "cell_type": "code",
   "execution_count": 3,
   "id": "3ae1d1f0",
   "metadata": {},
   "outputs": [],
   "source": [
    "# Performed dimesionality reduction (tSNE) to reduce 256 to 2 features for plotting scatter plots. Clustering indicates\n",
    "# good features.\n",
    "\n",
    "xtsne=TSNE(perplexity=30)\n",
    "results=xtsne.fit_transform(X)\n",
    "vis_x = results[:, 0]\n",
    "vis_y = results[:, 1]\n",
    "\n",
    "plt.figure(figsize=(10,10))\n",
    "plt.scatter(vis_x, vis_y, c=y, cmap=plt.cm.get_cmap(\"jet\", 9))\n",
    "plt.colorbar(ticks=range(10))\n",
    "plt.clim(0.5, 9)\n",
    "plt.show()"
   ]
  },
  {
   "cell_type": "code",
   "execution_count": 4,
   "id": "67f177a2",
   "metadata": {},
   "outputs": [],
   "source": [
    "xtsne=TSNE(perplexity=50)\n",
    "results=xtsne.fit_transform(X)\n",
    "vis_x = results[:, 0]\n",
    "vis_y = results[:, 1]\n",
    "\n",
    "plt.figure(figsize=(10,10))\n",
    "plt.scatter(vis_x, vis_y, c=y, cmap=plt.cm.get_cmap(\"jet\", 9))\n",
    "plt.colorbar(ticks=range(10))\n",
    "plt.clim(0.5, 9)\n",
    "plt.show()"
   ]
  },
  {
   "cell_type": "code",
   "execution_count": 5,
   "id": "04796fb3",
   "metadata": {},
   "outputs": [],
   "source": [
    "xtsne=TSNE(perplexity=10)\n",
    "results=xtsne.fit_transform(X)\n",
    "vis_x = results[:, 0]\n",
    "vis_y = results[:, 1]\n",
    "\n",
    "plt.figure(figsize=(10,10))\n",
    "plt.scatter(vis_x, vis_y, c=y, cmap=plt.cm.get_cmap(\"jet\", 9))\n",
    "plt.colorbar(ticks=range(10))\n",
    "plt.clim(0.5, 9)\n",
    "plt.show()"
   ]
  },
  {
   "cell_type": "markdown",
   "id": "673d8c13",
   "metadata": {},
   "source": [
    "<p> It is safe to conclude that current features are sufficiently useful (ByteFile) </p>"
   ]
  },
  {
   "cell_type": "markdown",
   "id": "c8f2273c",
   "metadata": {},
   "source": [
    "<h1> Model Training </h1>"
   ]
  },
  {
   "cell_type": "code",
   "execution_count": 120,
   "id": "fd5e1912",
   "metadata": {},
   "outputs": [
    {
     "name": "stdout",
     "output_type": "stream",
     "text": [
      "(8151, 258)\n",
      "(8151,)\n",
      "(2717, 258)\n",
      "(2717,)\n"
     ]
    }
   ],
   "source": [
    "x_train,x_test,y_train,y_test = train_test_split(X,y)\n",
    "print(x_train.shape)\n",
    "print(y_train.shape)\n",
    "print(x_test.shape)\n",
    "print(y_test.shape)"
   ]
  },
  {
   "cell_type": "markdown",
   "id": "46bae77a",
   "metadata": {},
   "source": [
    "<h2> KNN </h2>"
   ]
  },
  {
   "cell_type": "code",
   "execution_count": 6,
   "id": "419c294f",
   "metadata": {},
   "outputs": [],
   "source": [
    "# Alpha : Nearest Neighbor parameter.\n",
    "\n",
    "alpha = [x for x in range(1, 15, 2)]\n",
    "cv_log_error_array=[]\n",
    "for i in alpha:\n",
    "    k_cfl=KNeighborsClassifier(n_neighbors=i)\n",
    "    k_cfl.fit(x_train,y_train)\n",
    "    sig_clf = CalibratedClassifierCV(k_cfl, method=\"sigmoid\")\n",
    "    sig_clf.fit(x_train, y_train)\n",
    "    predict_y = sig_clf.predict_proba(x_test)\n",
    "    cv_log_error_array.append(log_loss(y_test, predict_y, labels=k_cfl.classes_, eps=1e-15))\n",
    "    print(\"{} loss at {} neighbors\".format(log_loss(y_test, predict_y, labels=k_cfl.classes_, eps=1e-15),i))"
   ]
  },
  {
   "cell_type": "code",
   "execution_count": 77,
   "id": "db108709",
   "metadata": {},
   "outputs": [
    {
     "data": {
      "text/plain": [
       "<AxesSubplot:>"
      ]
     },
     "execution_count": 77,
     "metadata": {},
     "output_type": "execute_result"
    },
    {
     "data": {
      "image/png": "[encoded data removed]",
      "text/plain": [
       "<Figure size 576x432 with 1 Axes>"
      ]
     },
     "metadata": {
      "needs_background": "light"
     },
     "output_type": "display_data"
    }
   ],
   "source": [
    "# Least loss observed at 3 neighbors\n",
    "\n",
    "plt.figure(figsize=(8,6))\n",
    "sns.lineplot(x=[x for x in range(1, 15, 2)],y=cv_log_error_array)"
   ]
  },
  {
   "cell_type": "code",
   "execution_count": 102,
   "id": "bc096bfd",
   "metadata": {},
   "outputs": [
    {
     "data": {
      "text/plain": [
       "<AxesSubplot:>"
      ]
     },
     "execution_count": 102,
     "metadata": {},
     "output_type": "execute_result"
    },
    {
     "data": {
      "image/png": "[encoded data removed]",
      "text/plain": [
       "<Figure size 1080x792 with 2 Axes>"
      ]
     },
     "metadata": {
      "needs_background": "light"
     },
     "output_type": "display_data"
    }
   ],
   "source": [
    "plt.figure(figsize=(15,11))\n",
    "sns.heatmap(confusion_matrix(y_test,list(map(np.argmax,predict_y))),annot=True)"
   ]
  },
  {
   "cell_type": "markdown",
   "id": "d65f8d7a",
   "metadata": {},
   "source": [
    "<h2> Logistic Regression </h2>"
   ]
  },
  {
   "cell_type": "code",
   "execution_count": 2,
   "id": "7b6e08cc",
   "metadata": {},
   "outputs": [],
   "source": [
    "alpha = [10 ** x for x in range(-5, 4)]\n",
    "cv_log_error_array=[]\n",
    "for i in alpha:\n",
    "    logisticR=LogisticRegression(penalty='l2',C=i,class_weight='balanced')\n",
    "    logisticR.fit(x_train,y_train)\n",
    "    sig_clf = CalibratedClassifierCV(logisticR, method=\"sigmoid\")\n",
    "    sig_clf.fit(x_train, y_train)\n",
    "    predict_y = sig_clf.predict_proba(x_test)\n",
    "    cv_log_error_array.append(log_loss(y_test, predict_y, labels=logisticR.classes_, eps=1e-15))"
   ]
  },
  {
   "cell_type": "code",
   "execution_count": 107,
   "id": "424a51f0",
   "metadata": {},
   "outputs": [
    {
     "data": {
      "text/plain": [
       "<AxesSubplot:>"
      ]
     },
     "execution_count": 107,
     "metadata": {},
     "output_type": "execute_result"
    },
    {
     "data": {
      "image/png": "[encoded data removed]",
      "text/plain": [
       "<Figure size 576x432 with 1 Axes>"
      ]
     },
     "metadata": {
      "needs_background": "light"
     },
     "output_type": "display_data"
    }
   ],
   "source": [
    "plt.figure(figsize=(8,6))\n",
    "sns.lineplot(x=[10 ** x for x in range(-5, 4)],y=cv_log_error_array)"
   ]
  },
  {
   "cell_type": "code",
   "execution_count": 108,
   "id": "4793cb90",
   "metadata": {},
   "outputs": [
    {
     "data": {
      "text/plain": [
       "<AxesSubplot:>"
      ]
     },
     "execution_count": 108,
     "metadata": {},
     "output_type": "execute_result"
    },
    {
     "data": {
      "image/png": "[encoded data removed]",
      "text/plain": [
       "<Figure size 1080x792 with 2 Axes>"
      ]
     },
     "metadata": {
      "needs_background": "light"
     },
     "output_type": "display_data"
    }
   ],
   "source": [
    "plt.figure(figsize=(15,11))\n",
    "sns.heatmap(confusion_matrix(y_test,list(map(np.argmax,predict_y))),annot=True)"
   ]
  },
  {
   "cell_type": "markdown",
   "id": "c7eaa317",
   "metadata": {},
   "source": [
    "<h1> Random Forest Classifier </h1>"
   ]
  },
  {
   "cell_type": "code",
   "execution_count": 7,
   "id": "d2a06e3e",
   "metadata": {},
   "outputs": [],
   "source": [
    "alpha=[10,50,100,500,1000,2000,3000]\n",
    "cv_log_error_array=[]\n",
    "train_log_error_array=[]\n",
    "\n",
    "\n",
    "for i in alpha:\n",
    "    r_cfl=RandomForestClassifier(n_estimators=i,random_state=42,n_jobs=-1)\n",
    "    r_cfl.fit(x_train,y_train)\n",
    "    sig_clf = CalibratedClassifierCV(r_cfl, method=\"sigmoid\")\n",
    "    sig_clf.fit(x_train, y_train)\n",
    "    predict_y = sig_clf.predict_proba(x_test)\n",
    "    cv_log_error_array.append(log_loss(y_test, predict_y, labels=r_cfl.classes_, eps=1e-15))\n",
    "    \n",
    "\n",
    "for i in range(len(cv_log_error_array)):\n",
    "    print ('log_loss for c = ',alpha[i],'is',cv_log_error_array[i])"
   ]
  },
  {
   "cell_type": "code",
   "execution_count": 116,
   "id": "93d05731",
   "metadata": {},
   "outputs": [
    {
     "data": {
      "text/plain": [
       "<AxesSubplot:>"
      ]
     },
     "execution_count": 116,
     "metadata": {},
     "output_type": "execute_result"
    },
    {
     "data": {
      "image/png": "[encoded data removed]",
      "text/plain": [
       "<Figure size 576x432 with 1 Axes>"
      ]
     },
     "metadata": {
      "needs_background": "light"
     },
     "output_type": "display_data"
    }
   ],
   "source": [
    "plt.figure(figsize=(8,6))\n",
    "sns.lineplot(x=[10,50,100,500,1000,2000,3000],y=cv_log_error_array)"
   ]
  },
  {
   "cell_type": "code",
   "execution_count": 117,
   "id": "5815e904",
   "metadata": {},
   "outputs": [
    {
     "data": {
      "text/plain": [
       "<AxesSubplot:>"
      ]
     },
     "execution_count": 117,
     "metadata": {},
     "output_type": "execute_result"
    },
    {
     "data": {
      "image/png": "[encoded data removed]",
      "text/plain": [
       "<Figure size 1080x792 with 2 Axes>"
      ]
     },
     "metadata": {
      "needs_background": "light"
     },
     "output_type": "display_data"
    }
   ],
   "source": [
    "plt.figure(figsize=(15,11))\n",
    "sns.heatmap(confusion_matrix(y_test,list(map(np.argmax,predict_y))),annot=True)"
   ]
  },
  {
   "cell_type": "markdown",
   "id": "88d2d11d",
   "metadata": {},
   "source": [
    "<h1> XGBClassifier </h1>"
   ]
  },
  {
   "cell_type": "code",
   "execution_count": 1,
   "id": "c707a517",
   "metadata": {},
   "outputs": [],
   "source": [
    "from sklearn.preprocessing import LabelEncoder\n",
    "le = LabelEncoder()\n",
    "y_train = le.fit_transform(y_train)\n",
    "\n",
    "x_cfl=XGBClassifier()\n",
    "\n",
    "prams={\n",
    "    'learning_rate':[0.01,0.03,0.05,0.1,0.15,0.2],\n",
    "     'n_estimators':[100,200,500,1000,2000],\n",
    "     'max_depth':[3,5,10],\n",
    "    'colsample_bytree':[0.1,0.3,0.5,1],\n",
    "    'subsample':[0.1,0.3,0.5,1]\n",
    "}\n",
    "\n",
    "random_cfl1=RandomizedSearchCV(x_cfl,param_distributions=prams,verbose=10,n_jobs=-1,)\n",
    "random_cfl1.fit(x_train,y_train)"
   ]
  },
  {
   "cell_type": "code",
   "execution_count": 126,
   "id": "07d5333b",
   "metadata": {},
   "outputs": [
    {
     "name": "stdout",
     "output_type": "stream",
     "text": [
      "train loss 0.022717230934666845\n",
      "test loss 0.0796059409379608\n"
     ]
    }
   ],
   "source": [
    "# Finding best parameters and using it to train the model \n",
    "# print (random_cfl1.best_params_)\n",
    "\n",
    "x_cfl=XGBClassifier(n_estimators=1000, learning_rate=0.05, colsample_bytree=1, max_depth=3)\n",
    "x_cfl.fit(x_train,y_train)\n",
    "c_cfl=CalibratedClassifierCV(x_cfl,method='sigmoid')\n",
    "c_cfl.fit(x_train,y_train)\n",
    "\n",
    "predict_y = c_cfl.predict_proba(x_train)\n",
    "print ('train loss',log_loss(y_train, predict_y))\n",
    "\n",
    "predict_y = c_cfl.predict_proba(x_test)\n",
    "print ('test loss',log_loss(y_test, predict_y))"
   ]
  }
 ],
 "metadata": {
  "kernelspec": {
   "display_name": "Python 3 (ipykernel)",
   "language": "python",
   "name": "python3"
  },
  "language_info": {
   "codemirror_mode": {
    "name": "ipython",
    "version": 3
   },
   "file_extension": ".py",
   "mimetype": "text/x-python",
   "name": "python",
   "nbconvert_exporter": "python",
   "pygments_lexer": "ipython3",
   "version": "3.9.6"
  }
 },
 "nbformat": 4,
 "nbformat_minor": 5
}
